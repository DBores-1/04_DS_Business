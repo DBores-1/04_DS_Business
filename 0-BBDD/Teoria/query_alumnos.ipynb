{
 "cells": [
  {
   "attachments": {},
   "cell_type": "markdown",
   "metadata": {},
   "source": [
    "## Librerías\n",
    "\n",
    "* sqlite3: librería de la BBDD SQLite para Python.\n",
    "* pandas: tratamiento de conjuntos de datos."
   ]
  },
  {
   "cell_type": "code",
   "execution_count": null,
   "metadata": {},
   "outputs": [],
   "source": [
    "import sqlite3\n",
    "import pandas as pd"
   ]
  },
  {
   "attachments": {},
   "cell_type": "markdown",
   "metadata": {},
   "source": [
    "Creamos la conexión con la BBDD y lanzamos nuestras diferentes queries."
   ]
  },
  {
   "cell_type": "code",
   "execution_count": null,
   "metadata": {},
   "outputs": [],
   "source": [
    "# Conexión.\n",
    "\n",
    "connection = sqlite3.connect('advertising.db')"
   ]
  },
  {
   "attachments": {},
   "cell_type": "markdown",
   "metadata": {},
   "source": [
    "* #### <font color='green'>1º Query:</font> seleccionamos todas las instancias de la tabla."
   ]
  },
  {
   "cell_type": "code",
   "execution_count": null,
   "metadata": {},
   "outputs": [],
   "source": [
    "select_books = \"SELECT * FROM campañas\"\n",
    "pd.read_sql_query(select_books, con=connection)"
   ]
  },
  {
   "attachments": {},
   "cell_type": "markdown",
   "metadata": {},
   "source": [
    "* #### <font color='green'>2º Query:</font> seleccionamos las instancias con ventas mayores a 20000."
   ]
  },
  {
   "cell_type": "code",
   "execution_count": null,
   "metadata": {},
   "outputs": [],
   "source": [
    "select_books = \"SELECT * FROM campañas WHERE sales>20000\"\n",
    "pd.read_sql_query(select_books, con=connection)"
   ]
  },
  {
   "attachments": {},
   "cell_type": "markdown",
   "metadata": {},
   "source": [
    "* #### <font color='green'>3º Query:</font> seleccionamos las instancias con ventas mayores a 20000 y lo ordenamos por la variable *newspaper* de manera descendente."
   ]
  },
  {
   "cell_type": "code",
   "execution_count": null,
   "metadata": {},
   "outputs": [],
   "source": [
    "select_books = \"SELECT * FROM campañas WHERE sales>20000 ORDER BY newspaper DESC\"\n",
    "pd.read_sql_query(select_books, con=connection)"
   ]
  },
  {
   "attachments": {},
   "cell_type": "markdown",
   "metadata": {},
   "source": [
    "* #### <font color='green'>4º Query:</font> seleccionamos las instancias con ventas mayores a 20000, lo ordenamos por la variable *newspaper* de manera descendente y un límite de 20 instancias."
   ]
  },
  {
   "cell_type": "code",
   "execution_count": null,
   "metadata": {},
   "outputs": [],
   "source": [
    "select_books = \"SELECT * FROM campañas WHERE sales>20000 ORDER BY newspaper DESC LIMIT 20\"\n",
    "pd.read_sql_query(select_books, con=connection)"
   ]
  },
  {
   "attachments": {},
   "cell_type": "markdown",
   "metadata": {},
   "source": [
    "* #### <font color='green'>5º Query:</font> seleccionamos las instancias con ventas mayores a 20000, lo ordenamos por la variable *newspaper* de manera descendente, un límite de 20 instancias y los costes de radio esten entre 35 y 45 (incluidos)."
   ]
  },
  {
   "cell_type": "code",
   "execution_count": null,
   "metadata": {},
   "outputs": [],
   "source": [
    "select_books = ''' \n",
    "SELECT *\n",
    "FROM campañas\n",
    "WHERE sales>20000 AND radio>=35 AND radio<=45 \n",
    "ORDER BY newspaper DESC\n",
    "LIMIT 20\n",
    "'''\n",
    "pd.read_sql_query(select_books, con=connection)"
   ]
  },
  {
   "attachments": {},
   "cell_type": "markdown",
   "metadata": {},
   "source": [
    "* #### <font color='green'>6º Query:</font> seleccionamos las instancias con ventas mayores a 20000, lo ordenamos por la variable *newspaper* de manera descendente, un límite de 20 instancias, los costes de radio esten entre 35 y 45 (incluidos) y crea una variable que sea la suma de los costes de los tres medios de comunicación (*total*)."
   ]
  },
  {
   "cell_type": "code",
   "execution_count": null,
   "metadata": {},
   "outputs": [],
   "source": [
    "select_books = ''' \n",
    "SELECT *, \n",
    "TV+radio+newspaper AS total\n",
    "FROM campañas\n",
    "WHERE sales>20000 AND radio>=35 AND radio<=45\n",
    "ORDER BY newspaper DESC\n",
    "LIMIT 20\n",
    "'''\n",
    "pd.read_sql_query(select_books, con=connection)"
   ]
  },
  {
   "attachments": {},
   "cell_type": "markdown",
   "metadata": {},
   "source": [
    "* #### <font color='green'>7º Query:</font> seleccionamos las instancias con ventas mayores a 20000, lo ordenamos por la variable *newspaper* de manera descendente, un límite de 20 instancias, los costes de radio esten entre 35 y 45 (incluidos), crea una variable que sea la suma de los costes de los tres medios de comunicación (*total*) y calcula el ratio de costes sobre el total por cada medio de comunicación (*per_TV*, *per_radio*, *per_newspaper*)."
   ]
  },
  {
   "cell_type": "code",
   "execution_count": null,
   "metadata": {},
   "outputs": [],
   "source": [
    "select_books = ''' \n",
    "SELECT *, \n",
    "TV+radio+newspaper AS total,\n",
    "TV/(TV+radio+newspaper) AS per_TV,\n",
    "radio/(TV+radio+newspaper) AS per_radio,\n",
    "newspaper/(TV+radio+newspaper) AS per_newspaper\n",
    "FROM campañas\n",
    "WHERE sales>20000 AND radio>=35 AND radio<=45\n",
    "ORDER BY newspaper DESC\n",
    "LIMIT 20\n",
    "'''\n",
    "pd.read_sql_query(select_books, con=connection)"
   ]
  },
  {
   "attachments": {},
   "cell_type": "markdown",
   "metadata": {},
   "source": [
    "<h4><font color='red'>IMPORTANTE:</font></h4> cortar conexión con nuestra BBDD."
   ]
  },
  {
   "cell_type": "code",
   "execution_count": null,
   "metadata": {},
   "outputs": [],
   "source": [
    "connection.close()"
   ]
  }
 ],
 "metadata": {
  "kernelspec": {
   "display_name": "base",
   "language": "python",
   "name": "python3"
  },
  "language_info": {
   "codemirror_mode": {
    "name": "ipython",
    "version": 3
   },
   "file_extension": ".py",
   "mimetype": "text/x-python",
   "name": "python",
   "nbconvert_exporter": "python",
   "pygments_lexer": "ipython3",
   "version": "3.7.4"
  },
  "orig_nbformat": 4,
  "vscode": {
   "interpreter": {
    "hash": "ad2bdc8ecc057115af97d19610ffacc2b4e99fae6737bb82f5d7fb13d2f2c186"
   }
  }
 },
 "nbformat": 4,
 "nbformat_minor": 2
}
