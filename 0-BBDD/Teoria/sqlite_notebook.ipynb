{
 "cells": [
  {
   "attachments": {},
   "cell_type": "markdown",
   "metadata": {},
   "source": [
    "## Librerías\n",
    "\n",
    "* sqlite3: librería de la BBDD SQLite para Python.\n",
    "* pandas: tratamiento de conjuntos de datos."
   ]
  },
  {
   "cell_type": "code",
   "execution_count": null,
   "metadata": {},
   "outputs": [],
   "source": [
    "import sqlite3\n",
    "import pandas as pd"
   ]
  },
  {
   "attachments": {},
   "cell_type": "markdown",
   "metadata": {},
   "source": [
    "Lo primero que debemos hacer es realizar la conexión con la BBDD."
   ]
  },
  {
   "cell_type": "code",
   "execution_count": null,
   "metadata": {},
   "outputs": [],
   "source": [
    "# Conexión.\n",
    "\n",
    "connection = sqlite3.connect('advertising.db')"
   ]
  },
  {
   "attachments": {},
   "cell_type": "markdown",
   "metadata": {},
   "source": [
    "Vamos a leer un archivo csv con pandas, lo convetimos a dataframe y lo cargamos en nuestra BBDD."
   ]
  },
  {
   "cell_type": "code",
   "execution_count": null,
   "metadata": {},
   "outputs": [],
   "source": [
    "# Lectura y conversión a dataframe.\n",
    "\n",
    "df = pd.read_csv('../data/Advertising.csv', index_col=0)\n",
    "df.head()"
   ]
  },
  {
   "cell_type": "code",
   "execution_count": null,
   "metadata": {},
   "outputs": [],
   "source": [
    "# Almacenamos nuestro dataframe en nuestra BBDD.\n",
    "\n",
    "df.to_sql(name=\"campañas\", con=connection, index=False)"
   ]
  },
  {
   "attachments": {},
   "cell_type": "markdown",
   "metadata": {},
   "source": [
    "#### ¿Cómo podemos consultar los datos de nuestra BBDD? ¿Cómo podemos lanzar nuestras queries contra la BBDD?\n",
    "\n",
    "\n",
    "##### <font color='green'>1º Forma (directa mediante la conexión)</font>\n",
    "* Inicializamos el cursor sobre la conexión con la BBDD.\n",
    "* Creamos nuestra query.\n",
    "* Ejecutamos nuestra query."
   ]
  },
  {
   "cell_type": "code",
   "execution_count": null,
   "metadata": {},
   "outputs": [],
   "source": [
    "cursor = connection.cursor()\n",
    "select = \"SELECT * FROM campañas\"\n",
    "result = cursor.execute(select).fetchall()\n",
    "print(result)\n"
   ]
  },
  {
   "attachments": {},
   "cell_type": "markdown",
   "metadata": {},
   "source": [
    "##### <font color='green'>2º Forma (a través de Pandas)</font>\n",
    "* Inicializamos el cursor sobre la conexión con la BBDD.\n",
    "* Creamos nuestra query.\n",
    "* Ejecutamos nuestra query."
   ]
  },
  {
   "cell_type": "code",
   "execution_count": null,
   "metadata": {},
   "outputs": [],
   "source": [
    "select = \"SELECT * FROM campañas\"\n",
    "pd.read_sql_query(select, con=connection)"
   ]
  },
  {
   "attachments": {},
   "cell_type": "markdown",
   "metadata": {},
   "source": [
    "<h4><font color='red'>IMPORTANTE:</font></h4> cortar conexión con nuestra BBDD."
   ]
  },
  {
   "cell_type": "code",
   "execution_count": null,
   "metadata": {},
   "outputs": [],
   "source": [
    "connection.close()"
   ]
  }
 ],
 "metadata": {
  "kernelspec": {
   "display_name": "base",
   "language": "python",
   "name": "python3"
  },
  "language_info": {
   "codemirror_mode": {
    "name": "ipython",
    "version": 3
   },
   "file_extension": ".py",
   "mimetype": "text/x-python",
   "name": "python",
   "nbconvert_exporter": "python",
   "pygments_lexer": "ipython3",
   "version": "3.7.4"
  },
  "orig_nbformat": 4,
  "vscode": {
   "interpreter": {
    "hash": "ad2bdc8ecc057115af97d19610ffacc2b4e99fae6737bb82f5d7fb13d2f2c186"
   }
  }
 },
 "nbformat": 4,
 "nbformat_minor": 2
}
