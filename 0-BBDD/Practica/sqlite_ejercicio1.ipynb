{
 "cells": [
  {
   "attachments": {},
   "cell_type": "markdown",
   "id": "3e7c9eef",
   "metadata": {},
   "source": [
    "## <font color='green'>1º Ejercicio</font>\n",
    "\n",
    "Utilizaremos el siguiente csv, disponible en la carpeta *data*:\n",
    "- autos-mpg.csv"
   ]
  },
  {
   "attachments": {},
   "cell_type": "markdown",
   "id": "81315b10",
   "metadata": {},
   "source": [
    "Crea una nueva BBDD (vehiculos) y guarda el csv en la tabla (autos)."
   ]
  },
  {
   "cell_type": "code",
   "execution_count": null,
   "id": "febf96b9",
   "metadata": {},
   "outputs": [],
   "source": [
    "import sqlite3\n",
    "import pandas as pd "
   ]
  },
  {
   "cell_type": "code",
   "execution_count": null,
   "id": "bbb9f7af",
   "metadata": {},
   "outputs": [],
   "source": [
    "# Conexión.\n",
    "\n",
    "connection = sqlite3.connect('vehiculos.db')"
   ]
  },
  {
   "cell_type": "code",
   "execution_count": null,
   "id": "5242b1a9",
   "metadata": {},
   "outputs": [],
   "source": [
    "# Lectura y conversión a dataframe.\n",
    "\n",
    "df = pd.read_csv('../data/auto-mpg.csv')\n",
    "df = df.loc[df.horsepower != '?']\n",
    "df.horsepower = df.horsepower.astype(int)\n",
    "df.rename(\n",
    "    columns = {'model year': 'model_year',\n",
    "               'car name': 'car_name'},\n",
    "               inplace=True)\n",
    "df['car_comp'] = df['car_name'].str.split(' ').str[0]\n",
    "display(df.info(), df.head())"
   ]
  },
  {
   "cell_type": "code",
   "execution_count": null,
   "id": "18f74668",
   "metadata": {},
   "outputs": [],
   "source": [
    "# Almacenamos nuestro dataframe en nuestra BBDD.\n",
    "\n",
    "df.to_sql(name=\"autos\", con=connection, index=False)"
   ]
  },
  {
   "cell_type": "markdown",
   "id": "f71fa440",
   "metadata": {},
   "source": [
    "#### Realiza las siguientes consultas"
   ]
  },
  {
   "cell_type": "markdown",
   "id": "395af82d",
   "metadata": {},
   "source": [
    "¿Cuáles son los coches más potentes?"
   ]
  },
  {
   "cell_type": "code",
   "execution_count": null,
   "id": "f9935f04",
   "metadata": {},
   "outputs": [],
   "source": [
    "select = ''' \n",
    "SELECT horsepower,car_name\n",
    "FROM autos\n",
    "ORDER BY horsepower DESC\n",
    "LIMIT 10\n",
    "'''\n",
    "pd.read_sql_query(select, con=connection)"
   ]
  },
  {
   "cell_type": "markdown",
   "id": "af52913a",
   "metadata": {},
   "source": [
    "¿Cuántos vehículos tenemos de cada origen?"
   ]
  },
  {
   "cell_type": "code",
   "execution_count": null,
   "id": "b456bee3",
   "metadata": {},
   "outputs": [],
   "source": [
    "select = ''' \n",
    "SELECT COUNT(*), origin \n",
    "FROM autos\n",
    "GROUP BY origin\n",
    "'''\n",
    "pd.read_sql_query(select, con=connection)"
   ]
  },
  {
   "attachments": {},
   "cell_type": "markdown",
   "id": "0e2944bf",
   "metadata": {},
   "source": [
    "¿Cuál es la media de consumo de los vehículos en función de su origen?"
   ]
  },
  {
   "cell_type": "code",
   "execution_count": null,
   "id": "9bdd744f",
   "metadata": {},
   "outputs": [],
   "source": [
    "select = ''' \n",
    "SELECT AVG(mpg), origin\n",
    "FROM autos\n",
    "GROUP BY origin\n",
    "'''\n",
    "pd.read_sql_query(select, con=connection)"
   ]
  },
  {
   "cell_type": "markdown",
   "id": "06fc3f34",
   "metadata": {},
   "source": [
    "Selecciona los vehículos con un consumo superior a 17 *mpg* y de origen 2."
   ]
  },
  {
   "cell_type": "code",
   "execution_count": null,
   "id": "e7fa3e64",
   "metadata": {},
   "outputs": [],
   "source": [
    "select = ''' \n",
    "SELECT *\n",
    "FROM autos\n",
    "WHERE mpg>17 AND origin==2\n",
    "'''\n",
    "pd.read_sql_query(select, con=connection)"
   ]
  },
  {
   "attachments": {},
   "cell_type": "markdown",
   "id": "14e2fe96",
   "metadata": {},
   "source": [
    "¿Cuál es la media de peso en aquellos autos con un consumo superior a 15 *mpg*?"
   ]
  },
  {
   "cell_type": "code",
   "execution_count": null,
   "id": "3809c79b",
   "metadata": {},
   "outputs": [],
   "source": [
    "select = ''' \n",
    "SELECT AVG(weight)\n",
    "FROM autos\n",
    "WHERE mpg>15\n",
    "'''\n",
    "pd.read_sql_query(select, con=connection)"
   ]
  },
  {
   "cell_type": "markdown",
   "id": "6ae44e33",
   "metadata": {},
   "source": [
    "La una query de libre elección."
   ]
  },
  {
   "cell_type": "code",
   "execution_count": null,
   "id": "b3c3c9fb",
   "metadata": {},
   "outputs": [],
   "source": [
    "# La media de consumo por cada año\n",
    "\n",
    "select = ''' \n",
    "SELECT AVG(mpg), model_year, origin\n",
    "FROM autos\n",
    "GROUP BY model_year, origin\n",
    "'''\n",
    "pd.read_sql_query(select, con=connection)"
   ]
  },
  {
   "cell_type": "code",
   "execution_count": null,
   "id": "73dee2b1",
   "metadata": {},
   "outputs": [],
   "source": [
    "# La media de consumo por cada año\n",
    "\n",
    "select = ''' \n",
    "SELECT AVG(mpg), car_comp\n",
    "FROM autos\n",
    "GROUP BY car_comp\n",
    "ORDER BY AVG(mpg) ASC\n",
    "'''\n",
    "pd.read_sql_query(select, con=connection)"
   ]
  },
  {
   "cell_type": "code",
   "execution_count": null,
   "id": "170453f0",
   "metadata": {},
   "outputs": [],
   "source": [
    "connection.close()"
   ]
  }
 ],
 "metadata": {
  "kernelspec": {
   "display_name": "base",
   "language": "python",
   "name": "python3"
  },
  "language_info": {
   "codemirror_mode": {
    "name": "ipython",
    "version": 3
   },
   "file_extension": ".py",
   "mimetype": "text/x-python",
   "name": "python",
   "nbconvert_exporter": "python",
   "pygments_lexer": "ipython3",
   "version": "3.7.4"
  },
  "vscode": {
   "interpreter": {
    "hash": "ad2bdc8ecc057115af97d19610ffacc2b4e99fae6737bb82f5d7fb13d2f2c186"
   }
  }
 },
 "nbformat": 4,
 "nbformat_minor": 5
}
