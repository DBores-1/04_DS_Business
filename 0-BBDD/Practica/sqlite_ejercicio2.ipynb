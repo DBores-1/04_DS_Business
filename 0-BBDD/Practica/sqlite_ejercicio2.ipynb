{
 "cells": [
  {
   "attachments": {},
   "cell_type": "markdown",
   "id": "3e7c9eef",
   "metadata": {},
   "source": [
    "## <font color='green'>2º Ejercicio</font>\n",
    "\n",
    "Utilizaremos los siguientes csvs, disponibles en la carpeta *data*:\n",
    "- empleados_tienda.csv\n",
    "- facturacion_tienda.csv"
   ]
  },
  {
   "attachments": {},
   "cell_type": "markdown",
   "id": "81315b10",
   "metadata": {},
   "source": [
    "Crea una nueva BBDD (comercio) y guarda los csvs en dos tablas (empleados, facturacion)."
   ]
  },
  {
   "cell_type": "code",
   "execution_count": null,
   "id": "febf96b9",
   "metadata": {},
   "outputs": [],
   "source": [
    "import pandas as pd\n",
    "import sqlite3"
   ]
  },
  {
   "cell_type": "code",
   "execution_count": null,
   "id": "bbb9f7af",
   "metadata": {},
   "outputs": [],
   "source": [
    "# Conexión.\n",
    "\n",
    "connection = sqlite3.connect('comercio.db')"
   ]
  },
  {
   "cell_type": "code",
   "execution_count": null,
   "id": "5242b1a9",
   "metadata": {},
   "outputs": [],
   "source": [
    "# Lectura y conversión a dataframe.\n",
    "\n",
    "df_emp = pd.read_csv('../data/empleados_tienda.csv')\n",
    "df_fact = pd.read_csv('../data/facturacion_tienda.csv')\n",
    "display(df_emp.info(), df_emp.head(10), df_fact.info(), df_fact.head())"
   ]
  },
  {
   "cell_type": "code",
   "execution_count": null,
   "id": "18f74668",
   "metadata": {},
   "outputs": [],
   "source": [
    "# Almacenamos nuestro dataframe en nuestra BBDD.\n",
    "\n",
    "df_emp.to_sql(name=\"empleados\", con=connection, index=False)\n",
    "df_fact.to_sql(name=\"facturacion\", con=connection, index=False)"
   ]
  },
  {
   "cell_type": "markdown",
   "id": "f71fa440",
   "metadata": {},
   "source": [
    "#### Realiza las siguientes consultas"
   ]
  },
  {
   "cell_type": "markdown",
   "id": "395af82d",
   "metadata": {},
   "source": [
    "¿Cuáles son las tiendas con más de 2 empleados?"
   ]
  },
  {
   "cell_type": "code",
   "execution_count": null,
   "id": "f9935f04",
   "metadata": {},
   "outputs": [],
   "source": [
    "# select = \"SELECT id_tienda FROM (SELECT id_tienda, COUNT(*) AS num_empleados FROM empleados GROUP BY id_tienda HAVING num_empleados>2)\"\n",
    "select = '''\n",
    "SELECT id_tienda \n",
    "FROM (SELECT id_tienda, COUNT(*) AS num_empleados \n",
    "      FROM empleados \n",
    "      GROUP BY id_tienda \n",
    "      HAVING num_empleados>2)\n",
    "      '''\n",
    "pd.read_sql_query(select, con=connection)"
   ]
  },
  {
   "cell_type": "markdown",
   "id": "af52913a",
   "metadata": {},
   "source": [
    "¿Cuántos de los empleados son jefes?"
   ]
  },
  {
   "cell_type": "code",
   "execution_count": null,
   "id": "b456bee3",
   "metadata": {},
   "outputs": [],
   "source": [
    "select = '''\n",
    "SELECT COUNT(DISTINCT id_empleado) \n",
    "FROM (SELECT id_empleado \n",
    "      FROM empleados \n",
    "      WHERE id_jefe_directo IS NOT NULL)'''\n",
    "pd.read_sql_query(select, con=connection)"
   ]
  },
  {
   "attachments": {},
   "cell_type": "markdown",
   "id": "0e2944bf",
   "metadata": {},
   "source": [
    "Ordena los tipos de jefes de mayor a menor según frecuencias."
   ]
  },
  {
   "cell_type": "code",
   "execution_count": null,
   "id": "9bdd744f",
   "metadata": {},
   "outputs": [],
   "source": [
    "select = '''\n",
    "SELECT id_jefe_directo,\n",
    "COUNT(*) AS num_empleados\n",
    "FROM empleados\n",
    "WHERE id_jefe_directo IS NOT NULL\n",
    "GROUP BY id_jefe_directo\n",
    "ORDER BY num_empleados DESC'''\n",
    "pd.read_sql_query(select, con=connection)"
   ]
  },
  {
   "cell_type": "code",
   "execution_count": null,
   "id": "3940e273",
   "metadata": {},
   "outputs": [],
   "source": [
    "select = '''\n",
    "SELECT id_jefe_directo,\n",
    "COUNT(*) AS num_empleados,\n",
    "GROUP_CONCAT(nombre) AS jef_names\n",
    "FROM empleados\n",
    "WHERE id_jefe_directo IS NOT NULL\n",
    "GROUP BY id_jefe_directo\n",
    "ORDER BY num_empleados DESC'''\n",
    "pd.read_sql_query(select, con=connection)"
   ]
  },
  {
   "cell_type": "code",
   "execution_count": null,
   "id": "b8363aea",
   "metadata": {},
   "outputs": [],
   "source": [
    "# Obtener el nombre de los jefes (cruzar id_empleado con id_jefe_directo).\n",
    "# Output: Ana, Jon, Fernando.\n",
    "\n",
    "select = '''\n",
    "SELECT emp1.id_empleado, emp1.nombre, emp1.apellido\n",
    "FROM empleados emp1\n",
    "JOIN empleados emp2\n",
    "ON emp1.id_empleado = emp2.id_jefe_directo\n",
    "GROUP BY emp1.id_empleado\n",
    "'''\n",
    "pd.read_sql_query(select, con=connection)"
   ]
  },
  {
   "cell_type": "markdown",
   "id": "06fc3f34",
   "metadata": {},
   "source": [
    "Ordena las tiendas de menor a mayor número de empleados."
   ]
  },
  {
   "cell_type": "code",
   "execution_count": null,
   "id": "e7fa3e64",
   "metadata": {},
   "outputs": [],
   "source": [
    "select = '''\n",
    "SELECT id_tienda,COUNT(*) AS num_empleados\n",
    "FROM empleados\n",
    "GROUP BY id_tienda\n",
    "ORDER BY num_empleados'''\n",
    "pd.read_sql_query(select, con=connection)"
   ]
  },
  {
   "attachments": {},
   "cell_type": "markdown",
   "id": "14e2fe96",
   "metadata": {},
   "source": [
    "¿Cuáles son las tiendas que tienen el número máximo de empleados? (Puede haber más de una tienda que tenga el número máximo de empleados)"
   ]
  },
  {
   "cell_type": "code",
   "execution_count": null,
   "id": "3809c79b",
   "metadata": {},
   "outputs": [],
   "source": [
    "select = '''\n",
    "SELECT id_tienda,COUNT(*) AS num_empleados\n",
    "FROM empleados\n",
    "GROUP BY id_tienda\n",
    "ORDER BY num_empleados DESC\n",
    "\n",
    "'''\n",
    "pd.read_sql_query(select, con=connection)"
   ]
  },
  {
   "cell_type": "code",
   "execution_count": null,
   "id": "73dee2b1",
   "metadata": {},
   "outputs": [],
   "source": [
    "connection.close()"
   ]
  }
 ],
 "metadata": {
  "kernelspec": {
   "display_name": "base",
   "language": "python",
   "name": "python3"
  },
  "language_info": {
   "codemirror_mode": {
    "name": "ipython",
    "version": 3
   },
   "file_extension": ".py",
   "mimetype": "text/x-python",
   "name": "python",
   "nbconvert_exporter": "python",
   "pygments_lexer": "ipython3",
   "version": "3.7.4"
  },
  "vscode": {
   "interpreter": {
    "hash": "ad2bdc8ecc057115af97d19610ffacc2b4e99fae6737bb82f5d7fb13d2f2c186"
   }
  }
 },
 "nbformat": 4,
 "nbformat_minor": 5
}
